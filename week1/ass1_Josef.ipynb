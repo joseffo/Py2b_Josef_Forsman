{
 "cells": [
  {
   "cell_type": "markdown",
   "id": "b9e907d0",
   "metadata": {},
   "source": [
    "My first Jupyter notebook\n",
    "Lets see if I can edit the text... No...\n"
   ]
  },
  {
   "cell_type": "code",
   "execution_count": null,
   "id": "f772bab7",
   "metadata": {},
   "outputs": [],
   "source": [
    "print('Hello world')"
   ]
  }
 ],
 "metadata": {
  "kernelspec": {
   "display_name": "Python 3 (ipykernel)",
   "language": "python",
   "name": "python3"
  },
  "language_info": {
   "codemirror_mode": {
    "name": "ipython",
    "version": 3
   },
   "file_extension": ".py",
   "mimetype": "text/x-python",
   "name": "python",
   "nbconvert_exporter": "python",
   "pygments_lexer": "ipython3",
   "version": "3.11.4"
  }
 },
 "nbformat": 4,
 "nbformat_minor": 5
}
